{
 "cells": [
  {
   "cell_type": "markdown",
   "id": "bc33abdd-d6cd-4ed4-8918-3de8405a82f4",
   "metadata": {},
   "source": [
    " Data Science Tools and Ecosystem"
   ]
  },
  {
   "cell_type": "markdown",
   "id": "275db97c-173e-4896-82ee-5859bb7f1fe6",
   "metadata": {},
   "source": [
    "In this notebook, Data Science Tools and Ecosystem are summarized."
   ]
  },
  {
   "cell_type": "markdown",
   "id": "d05ce7ed-0b03-47d8-9e9e-af59a9d8eb9c",
   "metadata": {},
   "source": [
    "Some of the popular languages that Data Scientists use are:\n",
    "\n",
    "1. Python\n",
    "2. R\n",
    "3. SQL\n",
    "4. Julia\n",
    "5. Scala"
   ]
  },
  {
   "cell_type": "markdown",
   "id": "f57b9868-1838-48bd-bd34-413d02f13cf6",
   "metadata": {},
   "source": [
    "Some of the commonly used libraries used by Data Scientists include:\n",
    "\n",
    "1. NumPy\n",
    "2. Pandas\n",
    "3. Matplotlib\n",
    "4. Scikit-learn\n",
    "5. TensorFlow   \n",
    "\n",
    "6. Keras\n",
    "7. PyTorch\n",
    "8. Seaborn\n",
    "9. Plotly"
   ]
  },
  {
   "cell_type": "markdown",
   "id": "210f436a-8e22-44bf-a25c-47d581a0f652",
   "metadata": {},
   "source": [
    "## Data Science Tools\n",
    "\n",
    "| Data Science Tools |\n",
    "|---|---|\n",
    "| Jupyter Notebook |\n",
    "| RStudio |\n",
    "| VS Code |"
   ]
  },
  {
   "cell_type": "markdown",
   "id": "807c0fe4-38ee-4a74-95a0-f79dd527c171",
   "metadata": {},
   "source": [
    "### Below are a few examples of evaluating arithmetic expressions in Python."
   ]
  },
  {
   "cell_type": "code",
   "execution_count": 1,
   "id": "0f491a40-a48c-4397-ab0e-476319e8f63a",
   "metadata": {
    "tags": []
   },
   "outputs": [
    {
     "data": {
      "text/plain": [
       "17"
      ]
     },
     "execution_count": 1,
     "metadata": {},
     "output_type": "execute_result"
    }
   ],
   "source": [
    "# This is a simple arithmetic expression to multiply then add integers.\n",
    "(3 * 4) + 5"
   ]
  },
  {
   "cell_type": "code",
   "execution_count": 2,
   "id": "0508410e-4a01-4b19-b875-989cc4b5c24e",
   "metadata": {
    "tags": []
   },
   "outputs": [
    {
     "data": {
      "text/plain": [
       "3.3333333333333335"
      ]
     },
     "execution_count": 2,
     "metadata": {},
     "output_type": "execute_result"
    }
   ],
   "source": [
    "# This will convert 200 minutes to hours by dividing by 60.\n",
    "200 / 60\n"
   ]
  },
  {
   "cell_type": "markdown",
   "id": "c6588ead-82fe-471c-8269-9ab26e5dd116",
   "metadata": {
    "tags": []
   },
   "source": [
    "**Objectives:**\n",
    "\n",
    "* List popular languages for Data Science\n",
    "* List commonly used libraries for Data Science\n",
    "* Describe development environments used for Data Science\n",
    "* Evaluate arithmetic expressions in Python\n",
    "* Convert minutes to hours in Python\n",
    "\n"
   ]
  },
  {
   "cell_type": "markdown",
   "id": "f70c51dd-9005-4dad-a4c9-fc83f95a1c38",
   "metadata": {
    "tags": []
   },
   "source": [
    "## Author\n",
    "\n",
    "Mohammed Alshuaibi"
   ]
  },
  {
   "cell_type": "code",
   "execution_count": null,
   "id": "2e8ee5fb-9022-40b6-901f-f348cb66f876",
   "metadata": {
    "tags": []
   },
   "outputs": [],
   "source": []
  },
  {
   "cell_type": "code",
   "execution_count": null,
   "id": "caeee479-3679-4eec-843b-3cf839a31201",
   "metadata": {},
   "outputs": [],
   "source": []
  }
 ],
 "metadata": {
  "kernelspec": {
   "display_name": "Python",
   "language": "python",
   "name": "conda-env-python-py"
  },
  "language_info": {
   "codemirror_mode": {
    "name": "ipython",
    "version": 3
   },
   "file_extension": ".py",
   "mimetype": "text/x-python",
   "name": "python",
   "nbconvert_exporter": "python",
   "pygments_lexer": "ipython3",
   "version": "3.7.12"
  }
 },
 "nbformat": 4,
 "nbformat_minor": 5
}
